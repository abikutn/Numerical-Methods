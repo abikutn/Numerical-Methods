{
 "cells": [
  {
   "cell_type": "markdown",
   "metadata": {},
   "source": [
    "# Numerical Integration\n",
    "## Prepared by Maxim Khagay\n",
    "### School of Science and Technology, Nazarbayev University"
   ]
  },
  {
   "cell_type": "markdown",
   "metadata": {},
   "source": [
    "## Abstract\n",
    "The report provides different methods for integration of function $f(x)=x^{0.1}(1.2-x)(1-e^{20(x-1)})$ with boundaries $0$ and $1$. In the report we will see 5 methods, they are - trapezoidal rule, Simpson's 1/3 rule, Romberg integration, adaptive quadrature and Gauss quadrature. The main purpose of report is to use all methods with accuracy of $10^{-7}$ and by comparing computational cost provide a rank. Moreover in report we will try to analyze asymptotic of each methods. \n",
    "## Introduction\n",
    "All methods allow to integrate function that we use in this report. To obtain accuracy of $10^{-7}$ we're going to use $binary search$ method and compute computational cost in terms of average time of each method.      "
   ]
  },
  {
   "cell_type": "markdown",
   "metadata": {},
   "source": [
    "### Theory\n",
    "Our integral:\n",
    "\n",
    "$\\int_0^1x^{0.1}(1.2-x)(1-e^{20(x-1)}dx = 0.602298$\n",
    "\n",
    "Let's us briefly describe all methods. More deep information you can find in Chapra and Canale's book.\n",
    "For each method we have boundaries of integral from $a$ to $b$, in our case $a = 0$ and $b = 1$. Some of methods use stepsize of  $h = \\frac{b-a}{n}$ to divide line segment to subsegments with $n + 1$ points from $x_0$ to $x_n$. \n",
    "\n",
    "Here description of each method.\n",
    "\n",
    "1) The trapezoidal rule\n",
    "\n",
    "For this method to calculate integral of each subsegment we use formula:\n",
    "\n",
    "$I = \\int_a^bf(x)dx ≃ (b-a)\\frac{f(a)+f(b)}{2}$\n",
    "\n",
    "In this method we need to use two points of each subsegment. So, we have such intergral with $n$ segments\n",
    "\n",
    "$I = \\int_{x_0}^{x_1}f(x)dx + \\int_{x_1}^{x_2}f(x)dx + ...\\int_{x_{n-1}}^{x_n}f(x)dx=h\\frac{f(x_0)+f(x_1)}{2}+h\\frac{f(x_1)+f(x_2)}{2}...+h\\frac{f(x_{n-1})+f(x_n)}{2}$\n",
    "\n",
    "$I ≃ h\\frac{1}{2}[f(x_0)+2\\sum_{i=1}^{n-1}f(x_i)+f(x_n)]$\n",
    "\n",
    "2) Simpson's 1/3 Rule\n",
    "\n",
    "For this method to calculate integral of each subsegment we use formula:\n",
    "\n",
    "$I = \\int_a^bf(x)dx ≃ \\frac{b-a}{6}[f(a)+4f(\\frac{a+b}{2})+f(b)]$\n",
    "\n",
    "In this method we need to use three points for each subsegment .So, we have such intergral with $n$ segments\n",
    "\n",
    "$I = \\int_{x_0}^{x_2}f(x)dx + \\int_{x_2}^{x_4}f(x)dx + ...\\int_{x_{n-2}}^{x_n}f(x)dx=h\\frac{f(x_0)+f(x_1)}{2}+h\\frac{f(x_1)+f(x_2)}{2}+h\\frac{f(x_{n-1})+f(x_n)}{2}$\n",
    "\n",
    "$I ≃ \\frac{b-a}{3n}[f(x_0)+4\\sum_{i=1,3,5}^{n-1}f(x_i)+2\\sum_{i=2,4,6}^{n-2}f(x_i)+f(x_n)]$\n",
    "\n",
    "3) Romberg intergration\n",
    "\n",
    "This method use the trapezoidal rule, formula of Romberg integration:\n",
    "\n",
    "$I_{j,k} ≃ \\frac{4^{k-1}I_{j+1,k-1} - I_{j, k - 1}}{4^{k-1}-1}$, \n",
    "\n",
    "where $I_{j+1,k-1}$ - more accurate estimation; $I_{j,k-1}$ - less accurate estimation; $I_{j, k}$ = improved integral. \n",
    "\n",
    "The index k signifies the level of the integration.\n",
    "\n",
    "4) Adaptive quadrature\n",
    "\n",
    "It is recursive method that uses Simpson's 1/3 rule and on each iteration it checks two integrals, if error is bigger than needed accuracy it recursively improve result:\n",
    "\n",
    "$I_1 = \\frac{h_1}{6}[f(a) + 4f(c) + f(b)]$\n",
    "\n",
    "$I_2 = \\frac{h_2}{6}[f(a) + 4f(d) + 2f(c) + 4f(e) + f(b)] + E(h_2)$\n",
    "\n",
    "$E(h_2) = \\frac{1}{15}[I(h_2)-I(h_1)]$\n",
    "\n",
    "Stops when $|I_2 - I_1| < 10^{-7}$\n",
    "\n",
    "$I = I_2 + (I_2 - I_1)/15$\n",
    "\n",
    "5) Gauss quadrature\n",
    "\n",
    "The last method will use stepsize $h$, for each subsegment we use this formula:\n",
    "\n",
    "$I = \\int_a^bf(x)dx ≃ c_0f(x_1) + c_1f(x_2)$,\n",
    "\n",
    "where $c_0 = c_1 = \\frac{b-a}{2}$, $x_1 = \\frac{a+b}{2}+\\sqrt\\frac{1}{3}\\frac{b-a}{2}$ and $x_2 = \\frac{a+b}{2}-\\sqrt\\frac{1}{3}\\frac{b-a}{2}$\n",
    "\n",
    "It comes from $I = \\int_a^bf(x)dx ≃ \\int_{-1}^{1}f(\\frac{b-a}{2}x + \\frac{a+b}{2})dx ≃ g(\\sqrt\\frac{1}{3}) + g(-\\sqrt\\frac{1}{3})$.\n",
    "\n",
    "For three methods we need to initiate stepsize or number of segments $n$ to achieve accuracy $10^{-7}$. So for this reason in report $binary$ $search$ method is used, since $binary$ $search$ takes some time we obtained these values $n$ in advance. Others two methods don't need it because they use estimated error in their functions. After all methods achieve accuracy $10^{-7}$  \n",
    "To calculate computational cost of each method we will run each method 30 times and take average. After that we will sort methods in terms of computational cost. \n",
    "\n",
    "#### Theoretical expectations\n",
    "As we know that trapezoidal method uses two points to calculate integral and Simpson's 1/3 rule uses 3 points, we can assume that Simpson's 1/3 need less stepsize to achieve accuracy $10^{-7}$, as computational cost of these methods directly depends on stepsize we can conclude than Simpson's 1/3 rule is faster than trapezoidal rule.\n",
    "Adaptive quadrature makes improvement when it's needed in subs-segment. Moreover, since it uses Simpson's 1/3 rule with 3 and 5 points we can predict that Adaptive quadrature achieves the best accuracy with minimum computational cost than other method. How much it is fast we will see later.\n"
   ]
  },
  {
   "cell_type": "markdown",
   "metadata": {},
   "source": [
    "## Methods"
   ]
  },
  {
   "cell_type": "markdown",
   "metadata": {},
   "source": [
    "Here, we will see all methods we covered in theory part."
   ]
  },
  {
   "cell_type": "markdown",
   "metadata": {},
   "source": [
    "First of all, we initiate function $f(x) = x^{0.1}(1.2-x)(1-e^{20(x-1)})$. $T$ is the true value of this integral."
   ]
  },
  {
   "cell_type": "code",
   "execution_count": 1,
   "metadata": {
    "collapsed": true
   },
   "outputs": [],
   "source": [
    "%matplotlib inline\n",
    "from matplotlib.pyplot import *\n",
    "from numpy import *\n",
    "from time import time\n",
    "from math import exp, sqrt\n",
    "import numpy as np\n",
    "import numpy.polynomial.legendre\n",
    "\n",
    "def f(x):\n",
    "    return x**(0.1)*(1.2-x)*(1 - exp(20*x - 20))\n",
    "\n",
    "T = 0.602298\n",
    "e = 10**(-7)"
   ]
  },
  {
   "cell_type": "markdown",
   "metadata": {},
   "source": [
    "Next step introduce methods: trapezoidal rule, Simpson's 1/3 rule, Romberg integration, adaptive quadrature and Gauss quadrature. "
   ]
  },
  {
   "cell_type": "markdown",
   "metadata": {},
   "source": [
    "Trapezoidal method"
   ]
  },
  {
   "cell_type": "code",
   "execution_count": 2,
   "metadata": {
    "collapsed": true
   },
   "outputs": [],
   "source": [
    "def trap(a, b, n):\n",
    "    x = np.array(np.zeros(n + 1), float)\n",
    "    h = (b - a) / n\n",
    "    for i in range(n + 1):\n",
    "        x[i] = a + h * i\n",
    "    I = f(x[0]) + f(x[n])\n",
    "    for i in range(1, n + 1):\n",
    "        I += 2 * f(x[i])\n",
    "    I = I * h / 2\n",
    "    \n",
    "    return I"
   ]
  },
  {
   "cell_type": "markdown",
   "metadata": {},
   "source": [
    "Simpson's 1/3"
   ]
  },
  {
   "cell_type": "code",
   "execution_count": 3,
   "metadata": {
    "collapsed": false
   },
   "outputs": [],
   "source": [
    "def Simpson(a, b, n):\n",
    "    x = np.array(np.zeros(n + 1), float)\n",
    "    h = (b - a) / n\n",
    "    for i in range(n + 1):\n",
    "        x[i] = a + h * i\n",
    "    I = f(x[0]) + f(x[n])\n",
    "    for i in range(1, n, 2):\n",
    "        I += 4 * f(x[i])\n",
    "    for i in range(2, n - 1, 2):\n",
    "        I += 2 * f(x[i])\n",
    "    I = I * (b - a) / (3 * n)\n",
    "    return I"
   ]
  },
  {
   "cell_type": "markdown",
   "metadata": {},
   "source": [
    "Romberg integration"
   ]
  },
  {
   "cell_type": "code",
   "execution_count": 4,
   "metadata": {
    "collapsed": false
   },
   "outputs": [],
   "source": [
    "def Romberg(a, b, es):\n",
    "    I = np.zeros((100,100), float)\n",
    "    n = 1\n",
    "    I[1][1] = trap(a, b, n)\n",
    "    iter = 0\n",
    "    while(True):\n",
    "        iter = iter + 1\n",
    "        n = 2**iter\n",
    "        I[iter + 1][1] = trap(a, b, n)\n",
    "        for k in range(2, iter + 1 + 1):\n",
    "            j = 2 + iter - k\n",
    "            I[j][k] = (4**(k-1)*I[j + 1][k - 1] - I[j][k - 1]) / (4**(k - 1) - 1)\n",
    "        ea = abs((I[1][iter+1] - T))\n",
    "        if (ea <= es):\n",
    "            break\n",
    "    Romberg = I[1][iter+1]\n",
    "    return Romberg"
   ]
  },
  {
   "cell_type": "markdown",
   "metadata": {},
   "source": [
    "Adaptive quadrature"
   ]
  },
  {
   "cell_type": "code",
   "execution_count": 22,
   "metadata": {
    "collapsed": false
   },
   "outputs": [],
   "source": [
    "def adapt(a, b):\n",
    "    tol = e\n",
    "    c = (a + b) / 2\n",
    "    fa = f(a)\n",
    "    fb = f(b)\n",
    "    fc = f(c)\n",
    "    quadapt = qstep(a, b, tol, fa, fc, fb)\n",
    "    return quadapt\n",
    "def qstep(a, b, tol, fa, fc, fb):\n",
    "    h1 = b - a\n",
    "    h2 = h1 / 2\n",
    "    c = (a + b)/2\n",
    "    fd = f((a+c)/2)\n",
    "    fe = f((c+b)/2)\n",
    "    I1 = h1/6 * (fa + 4 * fc + fb)\n",
    "    I2 = h2/6 * (fa + 4 * fd + 2 * fc + 4 * fe + fb)\n",
    "    if (abs(I2 - I1) <= tol):\n",
    "        I = I2 + (I2 - I1)/15\n",
    "    else:\n",
    "        Ia = qstep(a, c, tol, fa, fd, fc)\n",
    "        Ib = qstep(c, b, tol, fc, fe, fb)\n",
    "        I = Ia + Ib\n",
    "    return I"
   ]
  },
  {
   "cell_type": "markdown",
   "metadata": {},
   "source": [
    "Gauss quadrature"
   ]
  },
  {
   "cell_type": "code",
   "execution_count": 23,
   "metadata": {
    "collapsed": false,
    "scrolled": true
   },
   "outputs": [],
   "source": [
    "def Gauss(a, b, n):\n",
    "    h = (b - a) / n\n",
    "    I = 0\n",
    "    for i in range(n):\n",
    "        a1 = i * h;\n",
    "        b1 = (i + 1) * h\n",
    "        I1 = f((a1+b1)/2+sqrt(1/3)*(b1-a1)/2) + f((a1+b1)/2-sqrt(1/3)*(b1-a1)/2)\n",
    "        I1 = I1 * (b1 - a1) / 2\n",
    "        I += I1\n",
    "    \n",
    "    return I"
   ]
  },
  {
   "cell_type": "markdown",
   "metadata": {},
   "source": [
    "Let's introduce binary search to obtain a number of points that we need to achieve accuracy $10^(-7)$"
   ]
  },
  {
   "cell_type": "code",
   "execution_count": 24,
   "metadata": {
    "collapsed": false
   },
   "outputs": [],
   "source": [
    "def binary_search(l, r, s):\n",
    "    ans = -1\n",
    "    while(l <= r):\n",
    "        w = False\n",
    "        mid = int((l + r) / 2)\n",
    "        if (s == \"trapezoidal\" and abs(trap(0, 1, mid) - T) < e):\n",
    "                w = True\n",
    "        if (s == \"Simpson\" and abs(Simpson(0, 1, mid) - T) < e):\n",
    "                w = True\n",
    "        if (s == \"Gauss\" and abs(Gauss(0, 1, mid) - T) < e):\n",
    "                w = True            \n",
    "        if (w):\n",
    "            ans = mid\n",
    "            r = mid - 1\n",
    "        else:\n",
    "            l = mid + 1\n",
    "    return ans"
   ]
  },
  {
   "cell_type": "markdown",
   "metadata": {},
   "source": [
    "Here we can use binary search, as we said we hide it, because it takes some time and we calculated these numbers before. But if you want you can run it, you will obtain the same numbers that we had.  "
   ]
  },
  {
   "cell_type": "code",
   "execution_count": 25,
   "metadata": {
    "collapsed": false
   },
   "outputs": [
    {
     "name": "stdout",
     "output_type": "stream",
     "text": [
      "Enough number of point for trapezoidal -  756378\n",
      "Enough number of point for Simpson's 1/3 -  488952\n",
      "Enough number of point for Gauss quadrature -  95029\n"
     ]
    }
   ],
   "source": [
    "n1 = 756378\n",
    "n2 = 488952\n",
    "n3 = 95029\n",
    "#n1 = binary_search(0, 1000000, \"trapezoidal\")\n",
    "#n2 = binary_search(0, 1000000, \"Simpson\") \n",
    "#n3 = binary_search(1, 1000000, \"Gauss\")\n",
    "print(\"Enough number of point for trapezoidal - \", n1)\n",
    "print(\"Enough number of point for Simpson's 1/3 - \", n2)\n",
    "print(\"Enough number of point for Gauss quadrature - \",n3)"
   ]
  },
  {
   "cell_type": "markdown",
   "metadata": {},
   "source": [
    "Let's show that all methods work."
   ]
  },
  {
   "cell_type": "code",
   "execution_count": 26,
   "metadata": {
    "collapsed": false
   },
   "outputs": [
    {
     "name": "stdout",
     "output_type": "stream",
     "text": [
      "0.6022979\n",
      "0.602297900007\n",
      "0.602297928223\n",
      "0.6022979990966929\n",
      "0.6022980999999524\n"
     ]
    }
   ],
   "source": [
    "print(trap(0, 1, n1))\n",
    "print(Simpson(0, 1, n2))\n",
    "print(Romberg(0, 1, e))\n",
    "print(adapt(0,1))\n",
    "print(Gauss(0, 1, n3))"
   ]
  },
  {
   "cell_type": "markdown",
   "metadata": {},
   "source": [
    "CC - Compuataion Cost. This function run each method 30 times and return average of it."
   ]
  },
  {
   "cell_type": "code",
   "execution_count": 27,
   "metadata": {
    "collapsed": false
   },
   "outputs": [],
   "source": [
    "def CC(s):\n",
    "    start = time()\n",
    "    for i in range(30):\n",
    "        if (s == \"trapezoidal\"):\n",
    "            trap(0, 1, n1)\n",
    "        if (s == \"Simpson\"):\n",
    "            Simpson(0, 1, n2)\n",
    "        if (s == \"Romberg\"):\n",
    "            Romberg(0, 1, e)\n",
    "        if (s == \"adaptive quadrature\"):\n",
    "            adapt(0, 1)\n",
    "        if (s == \"Gauss quadrature\"):\n",
    "            Gauss(0, 1, n3)\n",
    "    end = time()\n",
    "    return ((end-start)/30)"
   ]
  },
  {
   "cell_type": "markdown",
   "metadata": {},
   "source": [
    "Here we calculate average computational cost to achieve accuracy $10^{-7}$ for each method."
   ]
  },
  {
   "cell_type": "code",
   "execution_count": 28,
   "metadata": {
    "collapsed": false
   },
   "outputs": [
    {
     "name": "stdout",
     "output_type": "stream",
     "text": [
      "trapezoidal 1.53317769368\n",
      "Simpson 0.991133634249\n",
      "Romberg 2.03405330181\n",
      "adaptive quadrature 0.000266853968302\n",
      "Gauss quadrature 0.26121951739\n"
     ]
    }
   ],
   "source": [
    "d1 = [\"trapezoidal\", \"Simpson\", \"Romberg\", \"adaptive quadrature\", \"Gauss quadrature\"]\n",
    "d2 = np.array(np.zeros(5), float)\n",
    "for i in range(5):\n",
    "    d2[i] = CC(d1[i])\n",
    "    print(d1[i], d2[i])"
   ]
  },
  {
   "cell_type": "markdown",
   "metadata": {},
   "source": [
    "Here we sorted all methods in terms of computational cost."
   ]
  },
  {
   "cell_type": "code",
   "execution_count": 39,
   "metadata": {
    "collapsed": false
   },
   "outputs": [
    {
     "name": "stdout",
     "output_type": "stream",
     "text": [
      "Rank\n",
      "1 - adaptive quadrature = 0.000266853968302\n",
      "2 - Gauss quadrature = 0.26121951739\n",
      "3 - Simpson = 0.991133634249\n",
      "4 - trapezoidal = 1.53317769368\n",
      "5 - Romberg = 2.03405330181\n"
     ]
    }
   ],
   "source": [
    "for i in range(5):\n",
    "    for j in range(i + 1, 5):\n",
    "        if (d2[i] > d2[j]):\n",
    "            x = d1[i]\n",
    "            d1[i] = d1[j]\n",
    "            d1[j] = x\n",
    "            x = d2[i]\n",
    "            d2[i] = d2[j]\n",
    "            d2[j] = x\n",
    "print(\"Rank\")\n",
    "for i in range(5):\n",
    "    print(i + 1,\"-\",d1[i], \"=\", d2[i])"
   ]
  },
  {
   "cell_type": "markdown",
   "metadata": {
    "collapsed": true
   },
   "source": [
    "## Discussion\n",
    "As we expected the best computational cost belongs to adaptive quadrature. Adaptive quadrature 1000 times faster than the second best method. It shows powerful of adaptive quadrature. Also, trapezoidal and Simpson's 1/3 rules got close computational cost. The worst result belongs to Romberg. In my results Adaptive quadrature was faster than Romberg over 7000 times.         "
   ]
  },
  {
   "cell_type": "markdown",
   "metadata": {},
   "source": [
    "## Conclusion\n",
    "First of all we provide true value of integral. Used binary search for three methods, where we need to use $n$ segments. For other methods we've just provided needed accuracy. After that we calculated computational cost of each method and provide a rank. In conclusion we can see which method is the fastest and which method is the slowest. "
   ]
  },
  {
   "cell_type": "markdown",
   "metadata": {
    "collapsed": true
   },
   "source": [
    "<span style=\"color:red\">100% </span>\n"
   ]
  },
  {
   "cell_type": "code",
   "execution_count": null,
   "metadata": {
    "collapsed": true
   },
   "outputs": [],
   "source": []
  }
 ],
 "metadata": {
  "kernelspec": {
   "display_name": "Python 3",
   "language": "python",
   "name": "python3"
  },
  "language_info": {
   "codemirror_mode": {
    "name": "ipython",
    "version": 3
   },
   "file_extension": ".py",
   "mimetype": "text/x-python",
   "name": "python",
   "nbconvert_exporter": "python",
   "pygments_lexer": "ipython3",
   "version": "3.5.1"
  }
 },
 "nbformat": 4,
 "nbformat_minor": 0
}
