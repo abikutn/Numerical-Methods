{
 "cells": [
  {
   "cell_type": "markdown",
   "metadata": {},
   "source": [
    "# Least-Squares Regression\n",
    "## Prepared by Maxim Khagay\n",
    "### School of Science and Technology, Nazarbayev University"
   ]
  },
  {
   "cell_type": "markdown",
   "metadata": {},
   "source": [
    "## Abstract\n",
    "In this report we used the Least-Squares Regression method to obtain best curves for fitting the given data. By using points in 2D it shows three methods of performing linear regression: a straight line, a power equation, a saturation-growth-rate equation. Then we used polynomial regression to fit the parabola equation. For a 3D we used method of multiple linear regression. For each method there are calculated coefficients, the standard errors and the correlations coefficients. Also report will provide graphical results of equations and compare results of best fitting method.\n"
   ]
  },
  {
   "cell_type": "markdown",
   "metadata": {},
   "source": [
    "## Introduction \n",
    "All five methods are very powerful to plot curve by fitting the given data.    \n",
    "### Theory\n",
    "From Chapra and Canale's we can find depth information about each methods. Let's briefly introduce and describe all methods.\n",
    "\n",
    "For each we have certain formula:\n",
    "\n",
    "1)A straight line $y = a_0 + a_1 \\times x_i$, where\n",
    "\n",
    "\\begin{equation*}\n",
    "a_1 = \\frac{n\\sum{x_iy_i} - \\sum{x_i}\\sum{y_i}}{n\\sum{x_i^2}-(\\sum{x_i})^2}\n",
    "\\end{equation*} \n",
    "\n",
    "\\begin{equation*}\n",
    "a_0 = \\overline{y}-a_1\\overline{x}\n",
    "\\end{equation*}\n",
    "\n",
    "\n",
    "2)A power equation $y = \\alpha x \\beta$\n",
    "\n",
    "By using next steps we will obtain by linearization \n",
    "   \n",
    "$\\ln y  = \\ln\\alpha + \\beta\\ln x$\n",
    "\n",
    "$y'  = a_0' + a_1' x'$\n",
    "\n",
    "And we can calculate $\\beta = a$, $\\alpha = e^{a_0}$\n",
    "\n",
    "3)A saturation-growth-rate equation $y = \\frac{\\alpha x}{\\beta + x}$\n",
    "\n",
    "$\\frac{1}{y}= \\frac{\\beta}{\\alpha}\\frac{1}{x}+ \\frac{1}{\\alpha}$\n",
    "\n",
    "$y'  = a_0' + a_1' x'$\n",
    "\n",
    "$a_0 = \\frac{1}{\\alpha}$, $a_1 = \\frac{\\beta}{\\alpha}$\n",
    "\n",
    "4)A parobola equaiton $y = a_0 + a_1x + a_2x^2$\n",
    "To find coefficients we need to solve matrix equation $Ax=B$.\n",
    "\n",
    "Where, matrix $A$ is\n",
    "\n",
    "\\begin{bmatrix}\n",
    "       n & \\sum{x_i}  & \\sum{x_i}^2         \\\\[0.3em]\n",
    "       \\sum{x_i} & \\sum{x_i}^2  & \\sum{x_i}^3 \\\\[0.3em]\n",
    "       \\sum{x_i}^2 & \\sum{x_i}^3 & \\sum{x_i}^4\n",
    "\\end{bmatrix}\n",
    "\n",
    "matrix $x$ is\n",
    "\\begin{bmatrix}\n",
    "       a_0         \\\\[0.3em]\n",
    "       a_1 \\\\[0.3em]\n",
    "       a_2\n",
    "\\end{bmatrix}\n",
    "and matrix $B$ is\n",
    "\\begin{bmatrix}\n",
    "       \\sum{y_i}         \\\\[0.3em]\n",
    "       \\sum{x_iy_i}         \\\\[0.3em]\n",
    "       \\sum{x_i^2y_i}         \\\\[0.3em]\n",
    "\\end{bmatrix}\n",
    "5) Multiple linear regression $y = a_0 + a_1x_1 + a_2x_2$\n",
    "We again will solve it by using matrix equation\n",
    "\n",
    "Matrix $A$\n",
    "\\begin{bmatrix}\n",
    "       n & \\sum{x_{1i}}  & \\sum{x_{2i}}        \\\\[0.3em]\n",
    "       \\sum{x_{1i}} & \\sum{x_{1i}}^2  & \\sum{x_{1i}x_{2i}} \\\\[0.3em]\n",
    "       \\sum{x_{2i}} & \\sum{x_{1i}x_{2i}} & \\sum{x_{2i}^2}\n",
    "\\end{bmatrix}\n",
    "\n",
    "Matrix $x$\n",
    "\\begin{bmatrix}\n",
    "       a_0         \\\\[0.3em]\n",
    "       a_1 \\\\[0.3em]\n",
    "       a_2\n",
    "\\end{bmatrix}\n",
    "\n",
    "Matrix $B$\n",
    "\\begin{bmatrix}\n",
    "       \\sum{y_i}         \\\\[0.3em]\n",
    "       \\sum{x_{1i}y_i}         \\\\[0.3em]\n",
    "       \\sum{x_{2i}y_i}         \\\\[0.3em]\n",
    "\\end{bmatrix}\n",
    "\n",
    "\n",
    "    Matrix $B$\n",
    "Next step, as we said we need to calculate the standard error of estimates and the correlations coefficent.\n",
    "\n",
    "$S_r=\\sum(y_0-y_i)^2$\n",
    "\n",
    "$S_t=\\sum(y_i-\\overline{y})^2$\n",
    "\n",
    "Standard error of the estimate:\n",
    "$S_{y/x}=\\sqrt{\\frac{S_r}{m-2}}$\n",
    "\n",
    "The correlations coefficient\n",
    "$r = \\sqrt{\\frac{S_t - S_r}{S_t}}$\n",
    "\n",
    "We know that method with minimal $S_{y/x}$ is the best curve fitting of data.\n",
    "\n",
    "From Chapra and Canale's book if $r$ is approaches to 1 means than method had perfect fit. "
   ]
  },
  {
   "cell_type": "markdown",
   "metadata": {},
   "source": [
    "## Methods"
   ]
  },
  {
   "cell_type": "markdown",
   "metadata": {},
   "source": [
    "Here you see our arrays of $x$ and $y$ in 2D space. We plot a graph of these points and we calculate mean of $y$, it will be needed later. For each method we will compute coefficients, the standard error of estimate and the correlations coefficient."
   ]
  },
  {
   "cell_type": "code",
   "execution_count": 339,
   "metadata": {
    "collapsed": false
   },
   "outputs": [
    {
     "data": {
      "image/png": "[encoded data removed]",
      "text/plain": [
       "<matplotlib.figure.Figure at 0xe791bbdbe0>"
      ]
     },
     "metadata": {},
     "output_type": "display_data"
    }
   ],
   "source": [
    "%matplotlib inline\n",
    "from matplotlib.pyplot import *\n",
    "from math import log\n",
    "from math import exp\n",
    "from math import sqrt \n",
    "import numpy as np\n",
    "\n",
    "x = np.array([5, 10, 15, 20, 25, 30, 35, 40, 45, 50])\n",
    "y = np.array([17, 24, 31, 33, 37, 37, 40, 40, 42, 41])\n",
    "n = 10\n",
    "\n",
    "axes = gca()\n",
    "axes.set_xlim([0,55])\n",
    "plot(x, y, 'bo')\n",
    "show()\n",
    "\n",
    "std1 = 0\n",
    "std2 = 0\n",
    "std3 = 0\n",
    "std4 = 0\n",
    "ym = 0\n",
    "\n",
    "for i in range(n):\n",
    "    ym += y[i]\n",
    "ym /= n\n",
    "st = 0\n",
    "for i in range(n):\n",
    "    st += (y[i] - ym)**2"
   ]
  },
  {
   "cell_type": "markdown",
   "metadata": {},
   "source": [
    "This is first method a straight line with obtained results below."
   ]
  },
  {
   "cell_type": "code",
   "execution_count": 340,
   "metadata": {
    "collapsed": false
   },
   "outputs": [
    {
     "data": {
      "image/png": "[encoded data removed]",
      "text/plain": [
       "<matplotlib.figure.Figure at 0xe78fb25588>"
      ]
     },
     "metadata": {},
     "output_type": "display_data"
    },
    {
     "name": "stdout",
     "output_type": "stream",
     "text": [
      "Standard error of the estimate of a straight line formula is  3.485032933195115\n",
      "The correlations coefficent of a straight line formula is  0.9156917035433403\n",
      "Coefficent:\n",
      "  a0 = 20.6 \n",
      "  a1 = 0.494545454545\n"
     ]
    }
   ],
   "source": [
    "sx = 0\n",
    "sy = 0\n",
    "sxy = 0\n",
    "sxx = 0\n",
    "std1 = 0\n",
    "for i in range(n):\n",
    "        sxy += x[i]*y[i]\n",
    "        sx += x[i]\n",
    "        sy += y[i]\n",
    "        sxx += x[i] * x[i]\n",
    "a1 = (n * sxy - sx*sy) / (n*sxx - sx * sx)\n",
    "xm = sx / n\n",
    "ym = sy / n\n",
    "a0 = ym - a1 * xm\n",
    "\n",
    "y0 = np.array(np.zeros(10))\n",
    "for i in range(n):\n",
    "    y0[i] = a0 + a1* x[i]\n",
    "    std1 += (y[i] - y0[i])**2 \n",
    "    \n",
    "r = sqrt((st-std1)/st)\n",
    "std1 = sqrt(std1/(n-2))\n",
    "\n",
    "axes = gca()\n",
    "axes.set_xlim([0,55])\n",
    "plot(x, y, 'bo')\n",
    "plot(x, y0)\n",
    "show()\n",
    "print(\"Standard error of the estimate of a straight line formula is \", std1)\n",
    "print(\"The correlations coefficent of a straight line formula is \", r)\n",
    "print(\"Coefficent:\\n  a0 =\", a0, \"\\n  a1 =\", a1)"
   ]
  },
  {
   "cell_type": "markdown",
   "metadata": {},
   "source": [
    "The second method method a power equation with obtained results."
   ]
  },
  {
   "cell_type": "code",
   "execution_count": 341,
   "metadata": {
    "collapsed": false
   },
   "outputs": [
    {
     "data": {
      "image/png": "[encoded data removed]",
      "text/plain": [
       "<matplotlib.figure.Figure at 0xe79060aac8>"
      ]
     },
     "metadata": {},
     "output_type": "display_data"
    },
    {
     "name": "stdout",
     "output_type": "stream",
     "text": [
      "Standard error of the estimate of a power equation formula is  2.164475337933126\n",
      "The correlations coefficent of a power equation formula is is  0.9683491553096023\n",
      "Coefficent:\n",
      "  l = 9.952915111289037 \n",
      "  b = 0.385077205319\n"
     ]
    }
   ],
   "source": [
    "x1 = np.array(np.zeros(10))\n",
    "y1 = np.array(np.zeros(10))\n",
    "\n",
    "for i in range(10):\n",
    "    x1[i] = log(x[i])\n",
    "    y1[i] = log(y[i])\n",
    "sx = 0\n",
    "sy = 0\n",
    "sxy = 0\n",
    "sxx = 0\n",
    "std2 = 0\n",
    "for i in range(n):\n",
    "        sxy += x1[i] * y1[i]\n",
    "        sx += x1[i]\n",
    "        sy += y1[i]\n",
    "        sxx += x1[i] * x1[i]\n",
    "a1 = (n * sxy - sx*sy) / (n*sxx - sx * sx)\n",
    "xm = sx / n\n",
    "ym = sy / n\n",
    "a0 = ym - a1 * xm\n",
    "\n",
    "b = a1\n",
    "l = exp(a0)\n",
    "\n",
    "y0 = np.array(np.zeros(10))\n",
    "for i in range(n):\n",
    "    y0[i]  = l*x[i]**b\n",
    "    std2 += (y[i] - y0[i])**2\n",
    "r = sqrt((st-std2)/st)\n",
    "std2 = sqrt(std2/(n-2))\n",
    "\n",
    "axes = gca()\n",
    "axes.set_xlim([0,55])\n",
    "plot(x, y, 'bo')\n",
    "plot(x, y0)\n",
    "show()\n",
    "print(\"Standard error of the estimate of a power equation formula is \", std2)\n",
    "print(\"The correlations coefficent of a power equation formula is is \", r)\n",
    "print(\"Coefficent:\\n  l =\", l, \"\\n  b =\", b)"
   ]
  },
  {
   "cell_type": "markdown",
   "metadata": {},
   "source": [
    "The third method a saturation-growth-rate equation with obtained results. "
   ]
  },
  {
   "cell_type": "code",
   "execution_count": 342,
   "metadata": {
    "collapsed": false
   },
   "outputs": [
    {
     "data": {
      "image/png": "[encoded data removed]",
      "text/plain": [
       "<matplotlib.figure.Figure at 0xe791a94828>"
      ]
     },
     "metadata": {},
     "output_type": "display_data"
    },
    {
     "name": "stdout",
     "output_type": "stream",
     "text": [
      "Standard error of the estimate of a saturation-growth-rate equation formula is 0.9016015125423512\n",
      "The correlations coefficent of a saturation-growth-rate equation is 0.9945804920771856\n",
      "Coefficent:\n",
      "  l = 50.0921181921 \n",
      "  b = 9.89136867953\n"
     ]
    }
   ],
   "source": [
    "x1 = np.array(np.zeros(10))\n",
    "y1 = np.array(np.zeros(10))\n",
    "\n",
    "for i in range(10):\n",
    "    x1[i] = 1 / x[i]\n",
    "    y1[i] = 1 / y[i]\n",
    "sx = 0\n",
    "sy = 0\n",
    "sxy = 0\n",
    "sxx = 0\n",
    "std3 = 0\n",
    "for i in range(n):\n",
    "        sxy += x1[i] * y1[i]\n",
    "        sx += x1[i]\n",
    "        sy += y1[i]\n",
    "        sxx += x1[i] * x1[i]\n",
    "a1 = (n * sxy - sx*sy) / (n*sxx - sx * sx)\n",
    "xm = sx / n\n",
    "ym = sy / n\n",
    "a0 = ym - a1 * xm\n",
    "\n",
    "l = 1 / a0\n",
    "b = a1 * l\n",
    "\n",
    "y0 = np.array(np.zeros(10))\n",
    "for i in range(n):\n",
    "    y0[i]  = l*x[i]/(b+x[i])\n",
    "    std3 += (y[i] - y0[i])**2 \n",
    "r = sqrt((st-std3)/st)\n",
    "std3 = sqrt(std3/(n-2))\n",
    "\n",
    "axes = gca()\n",
    "axes.set_xlim([0,55])\n",
    "plot(x, y, 'bo')\n",
    "plot(x, y0)\n",
    "show()\n",
    "print(\"Standard error of the estimate of a saturation-growth-rate equation formula is\", std3)\n",
    "print(\"The correlations coefficent of a saturation-growth-rate equation is\", r)\n",
    "print(\"Coefficent:\\n  l =\", l, \"\\n  b =\", b)"
   ]
  },
  {
   "cell_type": "markdown",
   "metadata": {},
   "source": [
    "The last method a parabola equation. To solve it we use matrix eqution with three coefficients and we can solve it by default operation of $numpy$ - $np.linalg.solve(a, b)$ "
   ]
  },
  {
   "cell_type": "code",
   "execution_count": 343,
   "metadata": {
    "collapsed": false
   },
   "outputs": [
    {
     "data": {
      "image/png": "[encoded data removed]",
      "text/plain": [
       "<matplotlib.figure.Figure at 0xe791a162e8>"
      ]
     },
     "metadata": {},
     "output_type": "display_data"
    },
    {
     "name": "stdout",
     "output_type": "stream",
     "text": [
      "Standard error of the estimate of a parobola formula is  1.311619731609096\n",
      "The correlations coefficent of a parobola formula is 0.989940741897905\n",
      "Coefficent:\n",
      "  a0 = 11.7666666667 \n",
      "  a1 = 1.37787878788 \n",
      "  a2 = -0.0160606060606\n"
     ]
    }
   ],
   "source": [
    "# Solving using numpy library \"solve\"\n",
    "sx1 = 0\n",
    "sx2 = 0\n",
    "sx3 = 0\n",
    "sx4 = 0\n",
    "sy  = 0\n",
    "sxy = 0\n",
    "sxxy = 0\n",
    "std4 = 0\n",
    "for i in range (n):\n",
    "    sx1 += x[i]\n",
    "    sx2 += x[i]**2\n",
    "    sx3 += x[i]**3\n",
    "    sx4 += x[i]**4\n",
    "    sy += y[i]\n",
    "    sxy += x[i]*y[i]\n",
    "    sxxy += x[i]*x[i]*y[i]\n",
    "    \n",
    "a = np.array([[n, sx1, sx2],\n",
    "              [sx1,  sx2, sx3],\n",
    "              [sx2, sx3, sx4]])\n",
    "\n",
    "b = np.array([sy, sxy, sxxy])\n",
    "\n",
    "a0,a1,a2 = np.linalg.solve(a,b)\n",
    "\n",
    "y0 = np.array(np.zeros(10))\n",
    "for i in range(n):\n",
    "    y0[i] = a0 + a1*x[i] + a2*x[i]*x[i]\n",
    "    std4 += (y[i] - y0[i])**2 \n",
    "r = sqrt((st-std4)/st)\n",
    "std4 = sqrt(std4/(n-3))\n",
    "\n",
    "axes = gca()\n",
    "axes.set_xlim([0,55])\n",
    "plot(x, y, 'bo')\n",
    "plot(x, y0)\n",
    "show()\n",
    "print(\"Standard error of the estimate of a parobola formula is \", std4)\n",
    "print(\"The correlations coefficent of a parobola formula is\", r)\n",
    "print(\"Coefficent:\\n  a0 =\", a0, \"\\n  a1 =\", a1, \"\\n  a2 =\", a2)"
   ]
  },
  {
   "cell_type": "markdown",
   "metadata": {},
   "source": [
    "Now, let's solve in 3D space with array of coordinates $x1$, $x2$ and $y$.  "
   ]
  },
  {
   "cell_type": "code",
   "execution_count": 344,
   "metadata": {
    "collapsed": true
   },
   "outputs": [],
   "source": [
    "x1 = np.array([0, 1, 1, 2, 2, 3, 3, 4, 4])\n",
    "x2 = np.array([0, 1, 2, 1, 2, 1, 2, 1, 2])\n",
    "y  = np.array([15.1, 17.9, 12.7, 25.6, 20.5, 35.1, 29.7, 45.4, 40.2])\n",
    "n = 9"
   ]
  },
  {
   "cell_type": "markdown",
   "metadata": {},
   "source": [
    "Let's plot a 3D space of these coordinates."
   ]
  },
  {
   "cell_type": "code",
   "execution_count": 345,
   "metadata": {
    "collapsed": false
   },
   "outputs": [
    {
     "data": {
      "image/png": "[encoded data removed]",
      "text/plain": [
       "<matplotlib.figure.Figure at 0xe7907f0128>"
      ]
     },
     "metadata": {},
     "output_type": "display_data"
    }
   ],
   "source": [
    "from mpl_toolkits.mplot3d import Axes3D\n",
    "import matplotlib.pyplot as plt\n",
    "\n",
    "fig = plt.figure()\n",
    "ax = fig.add_subplot(111, projection='3d')\n",
    "\n",
    "ax.scatter(x1, x2, y, c='r', marker='o')\n",
    "\n",
    "ax.set_xlabel('X Label')\n",
    "ax.set_ylabel('Y Label')\n",
    "ax.set_zlabel('Z Label')\n",
    "\n",
    "plt.show()\n"
   ]
  },
  {
   "cell_type": "markdown",
   "metadata": {},
   "source": [
    "Here we use multiple linear regression to obtain curve fitting. We create a matrices $a$ and $b$. To solve matrix equation we again use $np.linalg.sove$."
   ]
  },
  {
   "cell_type": "code",
   "execution_count": 346,
   "metadata": {
    "collapsed": false
   },
   "outputs": [],
   "source": [
    "a[0,0] = n\n",
    "a[0,1] = a[0,2] = a[1,0] = a[1,1] = a[1,2] = a[2,0] = a[2,1] = a[2,2] = 0 \n",
    "b[0] = b[1] = b[2] = 0\n",
    "for i in range(n):\n",
    "    a[0][1] += x1[i]\n",
    "    a[0][2] += x2[i]\n",
    "    a[1][0] += x1[i]\n",
    "    a[1][1] += x1[i]**2\n",
    "    a[1][2] += x1[i]*x2[i]\n",
    "    a[2][0] += x2[i]\n",
    "    a[2][1] += x1[i]*x2[i]\n",
    "    a[2][2] += x2[i]**2\n",
    "    b[0] += y[i]\n",
    "    b[1] += x1[i]*y[i]\n",
    "    b[2] += x2[i]*y[i]\n",
    "a0,a1,a2 = np.linalg.solve(a,b)\n",
    "y0 = np.array(np.zeros(10))\n",
    "for i in range(n):\n",
    "    y0[i] = a0 + a1 * x1[i] + a2 * x2[i]"
   ]
  },
  {
   "cell_type": "markdown",
   "metadata": {},
   "source": [
    "Now let's plot a plane of obtained coefficients in eqution $z = a_0 + a_1x + a_2y$ and we can see how it coordinates lie on  plane."
   ]
  },
  {
   "cell_type": "code",
   "execution_count": 347,
   "metadata": {
    "collapsed": false
   },
   "outputs": [
    {
     "data": {
      "image/png": "[encoded data removed]",
      "text/plain": [
       "<matplotlib.figure.Figure at 0xe791a127f0>"
      ]
     },
     "metadata": {},
     "output_type": "display_data"
    }
   ],
   "source": [
    "from mpl_toolkits.mplot3d import Axes3D\n",
    "from matplotlib import cm\n",
    "import matplotlib.pyplot as plt\n",
    "import numpy as np\n",
    "\n",
    "X = np.linspace(0, 4, 80)            # points in the x axis\n",
    "Y = np.linspace(0, 4, 80)            # points in the y axis\n",
    "X, Y = np.meshgrid(x1, Y)              # create the \"base grid\"\n",
    "Z = a0 + a1*X + a2*Y   \n",
    "fig = plt.figure()\n",
    "ax = fig.gca(projection='3d')         # set the 3d axes\n",
    "ax.scatter(x1, x2, y, c='r', marker='o')\n",
    "ax.plot_surface(X, Y, Z, \n",
    "                rstride=3, \n",
    "                cstride=3, \n",
    "                alpha=0.3,            # transparency of the surface \n",
    "                cmap=cm.BuPu)         # colour map\n",
    "plt.show()"
   ]
  },
  {
   "cell_type": "markdown",
   "metadata": {},
   "source": [
    "See below results."
   ]
  },
  {
   "cell_type": "code",
   "execution_count": 348,
   "metadata": {
    "collapsed": false
   },
   "outputs": [
    {
     "name": "stdout",
     "output_type": "stream",
     "text": [
      "Standard error of the estimate of a multiple linear regression is 1.240324875627934\n",
      "The correlations coefficent of a  multiple linear regression is 0.9956313336607736\n",
      "Coefficent:\n",
      "  a0 = 12.8695652174 \n",
      "  a1 = 9.31739130435 \n",
      "  a2 = -5.34782608696\n"
     ]
    }
   ],
   "source": [
    "ym = 0;\n",
    "st = 0;\n",
    "sr = 0;\n",
    "std = 0;\n",
    "for i in range(n):\n",
    "    ym += y[i]\n",
    "ym /= n\n",
    "for i in range(n):\n",
    "    st += (y[i] - ym)**2\n",
    "    sr += (y[i] - y0[i])**2\n",
    "std = sqrt(sr/(n-3))\n",
    "r = sqrt((st-sr)/st)\n",
    "print(\"Standard error of the estimate of a multiple linear regression is\", std)\n",
    "print(\"The correlations coefficent of a  multiple linear regression is\", r)\n",
    "print(\"Coefficent:\\n  a0 =\", a0, \"\\n  a1 =\", a1, \"\\n  a2 =\", a2)"
   ]
  },
  {
   "cell_type": "markdown",
   "metadata": {},
   "source": [
    "## Discussion\n",
    "For 2D space we saw four methods. All methods were acceptable, curves fit to data. As we said in theory part, the best curve fitting belongs to method with minimal standard error of estimate. So we saw that the best is a saturation-growth-rate equation. Moreover correlation coefficient of this method was closer to 1 compared to another method.\n",
    "\n",
    "For 3D space we also saw that standard error of estimate satisfies to good result and correlation coefficients was close to 1."
   ]
  },
  {
   "cell_type": "markdown",
   "metadata": {
    "collapsed": true
   },
   "source": [
    "## Conclusion"
   ]
  },
  {
   "cell_type": "markdown",
   "metadata": {},
   "source": [
    "Finally let's emphasize that all methods were used linearization. The last two methods were used matrix equations with 3 coefficients. Each of them got acceptable results.\n",
    "For each method we created a 2D or 3D graph to see graphical results. Coefficients, stantard error of estimate and correlations coefficent were provided and compared"
   ]
  }
 ],
 "metadata": {
  "kernelspec": {
   "display_name": "Python 3",
   "language": "python",
   "name": "python3"
  },
  "language_info": {
   "codemirror_mode": {
    "name": "ipython",
    "version": 3
   },
   "file_extension": ".py",
   "mimetype": "text/x-python",
   "name": "python",
   "nbconvert_exporter": "python",
   "pygments_lexer": "ipython3",
   "version": "3.5.1"
  }
 },
 "nbformat": 4,
 "nbformat_minor": 0
}
