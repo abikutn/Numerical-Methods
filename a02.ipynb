{
 "cells": [
  {
   "cell_type": "markdown",
   "metadata": {},
   "source": [
    "# Numerical Root-finding by using Bracketing and Open methods.\n",
    "## Prepared by Maxim Khagay\n",
    "### School of Science and Technology, Nazarbayev University"
   ]
  },
  {
   "cell_type": "markdown",
   "metadata": {},
   "source": [
    "# Abstract\n",
    "This report will demostrate two kind of methods - Bracketing and Open, each of them has two divisions. Bracketing methods include bisection and false-postion methods. Open methods are fixed-point iteration and Newton-Raphson methods. All of them are used to find numerical root of an equation. Here, practical results will show correctness of theoretical arguments. Also we will compare all methods betweeen each other with different initial guesses."
   ]
  },
  {
   "cell_type": "markdown",
   "metadata": {},
   "source": [
    "## Introduction\n",
    "All four methods are useful for finding a root of equation, but they all have different aspects of usage.\n",
    "### Theory\n",
    "The algorithm of each of the method is described in Chapra and Canale's book. As we can see, all of them require an initial guess or guesses for determination of the roots and update them before error becomes acceptable. Let's see the formulas for each of the methods:\n",
    "\n",
    "Bisection\n",
    "\\begin{equation*}\n",
    "x_r = \\frac{x_l+x_u}{2}\n",
    "\\end{equation*}\n",
    "False-position\n",
    "\\begin{equation*}\n",
    "x_r = x_u-\\frac{f(x_u)(x_l-x_u)}{f(x_l)-f(x_u)}\n",
    "\\end{equation*}\n",
    "Fixed-point iteration\n",
    "\\begin{equation*}\n",
    "x_{i+1} = g(x_i)\n",
    "\\end{equation*}\n",
    "Newton Raphson\n",
    "\\begin{equation*}\n",
    "x_{i+1} = x_i-\\frac{f(x_i)}{f'(x_i)}\n",
    "\\end{equation*}\n",
    "All methods work while acceptable error is not occurred or for maximal number of allowed iterations. \n",
    "\n",
    "Error changes by means of this formula:\n",
    "\\begin{equation*}\n",
    "e_i = |\\frac{x_i-x_{i-1}}{x_i}|\\times100\n",
    "\\end{equation*}\n",
    "From Chapra and Canale's book we know that bracketing methods always converge. However, open methods may diverge, so the convergence of the fixed-point method depends on our choice of $g(x)$. In the case when it converges, $|g'(x)|<1$"
   ]
  },
  {
   "cell_type": "markdown",
   "metadata": {},
   "source": [
    "# Formulation of the problem\n",
    "We will use four methods to find numerical root of this equation: \n",
    " \\begin{equation*}\n",
    "f(x) = \\epsilon^{0.5x}-5+5x \n",
    "\\end{equation*}\n",
    "With a acceptable error $10^{-10}$ in each method.\n",
    " "
   ]
  },
  {
   "cell_type": "markdown",
   "metadata": {},
   "source": [
    "# Methods with Discussion\n",
    "For coding part let introduce these packages to use lists, make plots and use math functions:"
   ]
  },
  {
   "cell_type": "code",
   "execution_count": 141,
   "metadata": {
    "collapsed": true
   },
   "outputs": [],
   "source": [
    "from matplotlib.pyplot import *\n",
    "%matplotlib inline\n",
    "from math import exp\n",
    "from math import log"
   ]
  },
  {
   "cell_type": "markdown",
   "metadata": {},
   "source": [
    "Now define function with derivative. Also we will define \"g(x)\" function for Fixed-point method."
   ]
  },
  {
   "cell_type": "code",
   "execution_count": 142,
   "metadata": {
    "collapsed": true
   },
   "outputs": [],
   "source": [
    "def f(x):\n",
    "    return exp(0.5*x)-5+5*x\n",
    "\n",
    "def df(x):\n",
    "    return 0.5*exp(0.5*x)+5\n",
    "\n",
    "def g(x):\n",
    "    return f(x) + x"
   ]
  },
  {
   "cell_type": "markdown",
   "metadata": {},
   "source": [
    "Next step we see all 4 methods in this order:\n",
    "\n",
    "Bisection, False-position, Fixed-point and Newton Raphson.\n",
    "\n",
    "First two of them use $x_u$ and $x_l$ as initial guesses to find $x_r$, whereas last two of them use one initial guess. All methods use lists to store positions, errors and number of iteration in each iteration. All use loops to have fixed number of iterations, update values of guesses and stop when error is acceptable($ea$<$es$). However they can finish iteration when iteration number is bigger than $imax$. As it's written above all methods are more deeply described in Chapra and Canale book."
   ]
  },
  {
   "cell_type": "code",
   "execution_count": 143,
   "metadata": {
    "collapsed": false
   },
   "outputs": [],
   "source": [
    "def bisect(xl,xu,es,imax):\n",
    "    xr=0.0\n",
    "    x=[];e=[];it=[]\n",
    "    for i in range(imax):\n",
    "        xrold=xr\n",
    "        xr=0.5*(xl+xu)        \n",
    "        if (xr != 0.0):\n",
    "            ea=abs((xr-xrold)/xr)*100\n",
    "        it.append(i); x.append(xr); e.append(ea)\n",
    "        test=f(xl)*f(xr)\n",
    "        if (test<0.0):\n",
    "            xu=xr\n",
    "        elif (test>0.0):\n",
    "            xl=xr\n",
    "        else:\n",
    "            ea=0.0\n",
    "        if (ea<es):\n",
    "            break\n",
    "    return it,xr,e\n",
    "\n",
    "def falsep(xl,xu,es,imax):\n",
    "    xr=0.0\n",
    "    x=[];e=[];it=[]\n",
    "    for i in range(imax):\n",
    "        xrold=xr\n",
    "        xr=xu-f(xu)*(xl-xu)/(f(xl)-f(xu))\n",
    "        if (xr != 0.0):\n",
    "            ea=abs((xr-xrold)/xr)*100\n",
    "        it.append(i); x.append(xr); e.append(ea)\n",
    "        test=f(xl)*f(xr)\n",
    "        if (test<0.0):\n",
    "            xu=xr\n",
    "        elif (test>0.0):\n",
    "            xl=xr\n",
    "        else:\n",
    "            ea=0.0\n",
    "        if (ea<es):\n",
    "            break\n",
    "    return it,xr,e\n",
    "\n",
    "def fixpt(x0,es,imax):\n",
    "    xr=x0\n",
    "    x=[];e=[];it=[]\n",
    "    for i in range(imax):\n",
    "        xrold=xr\n",
    "        xr=g(xrold)\n",
    "        if (xr!=0):\n",
    "            ea=abs((xr-xrold)/xr)*100\n",
    "        it.append(i); x.append(xr); e.append(ea)\n",
    "        if (ea<es):\n",
    "            break\n",
    "    return it,xr,e\n",
    "\n",
    "def nr(x0,es,imax):\n",
    "    xr=x0\n",
    "    x=[];e=[];it=[]\n",
    "    for i in range(imax):\n",
    "        xrold=xr\n",
    "        xr=xrold-f(xrold)/df(xrold)\n",
    "        if (xr!=0):\n",
    "            ea=abs((xr-xrold)/xr)*100\n",
    "        it.append(i); x.append(xr); e.append(ea)\n",
    "        if (ea<es):\n",
    "            break\n",
    "    return it,xr,e"
   ]
  },
  {
   "cell_type": "markdown",
   "metadata": {},
   "source": [
    "Next part of code demonstrate graphical method to estimate the region where the root equaiton is located. It createad a graph to show us that region. We will use 200 steps of size 0.1 to plot graph from -10 to 10.  "
   ]
  },
  {
   "cell_type": "code",
   "execution_count": 144,
   "metadata": {
    "collapsed": false
   },
   "outputs": [
    {
     "data": {
      "image/png": "[encoded data removed]",
      "text/plain": [
       "<matplotlib.figure.Figure at 0x4eacf475c0>"
      ]
     },
     "metadata": {},
     "output_type": "display_data"
    }
   ],
   "source": [
    "n = 200; a1 = []; a2 = -10.0; y = [];\n",
    "for i in range(n):\n",
    "    a1.append(a2 + i * (0.1));\n",
    "    y.append(f(a2 + i * (0.1)))\n",
    "plot(a1, y)\n",
    "axhline(0, color='black')\n",
    "axvline(0, color='black')\n",
    "title('Graphical Method')\n",
    "show()"
   ]
  },
  {
   "cell_type": "markdown",
   "metadata": {},
   "source": [
    "As we can see the region of numerical root betweem 0 and 5, it closer to 0. "
   ]
  },
  {
   "cell_type": "markdown",
   "metadata": {},
   "source": [
    "Now let's start to use bracketing and open methods. For all method we will have $i_i$, $x_i$ and $e_i$. They are numbers of iterations, the last founded $x$ posision and errors."
   ]
  },
  {
   "cell_type": "markdown",
   "metadata": {},
   "source": [
    "Here we use Bisection method with brackets $x_l = 0$ and $x_u = 1$ . We determine root of equation of bisection method."
   ]
  },
  {
   "cell_type": "code",
   "execution_count": 145,
   "metadata": {
    "collapsed": false
   },
   "outputs": [
    {
     "name": "stdout",
     "output_type": "stream",
     "text": [
      "root =  0.7141687150292455\n"
     ]
    }
   ],
   "source": [
    "i1,x1,e1=bisect(0,1,1e-10,100)\n",
    "print(\"root = \",x1)"
   ]
  },
  {
   "cell_type": "markdown",
   "metadata": {},
   "source": [
    "Here we use false-position method with brackets $x_l = 0$ and $x_u = 1$. We determine root of equation of false-positon method."
   ]
  },
  {
   "cell_type": "code",
   "execution_count": 146,
   "metadata": {
    "collapsed": false
   },
   "outputs": [
    {
     "name": "stdout",
     "output_type": "stream",
     "text": [
      "root =  0.714168715029385\n"
     ]
    }
   ],
   "source": [
    "i2,x2,e2=falsep(0,1,1e-10,100)\n",
    "print(\"root = \",x2)"
   ]
  },
  {
   "cell_type": "markdown",
   "metadata": {},
   "source": [
    "Here we use fixed-point iteration method with initial guess $x_0 = 1$. We determine root of equation of false-positon method. As you can see above we used $g(x) = f(x) + x$. Also we will see a graph shows us error is extremaly increasing, because of $g'(x)$ diverges. It means we can not find root of equation."
   ]
  },
  {
   "cell_type": "code",
   "execution_count": 147,
   "metadata": {
    "collapsed": false
   },
   "outputs": [
    {
     "data": {
      "image/png": "[encoded data removed]",
      "text/plain": [
       "<matplotlib.figure.Figure at 0x4ead0b2080>"
      ]
     },
     "metadata": {},
     "output_type": "display_data"
    }
   ],
   "source": [
    "i3,x3,e3=fixpt(1,1e-10,3)\n",
    "xlabel(\"Iteration number\"); ylabel(\"Error\")\n",
    "plot(i3,e3,label=\"Fixpt\"); "
   ]
  },
  {
   "cell_type": "markdown",
   "metadata": {},
   "source": [
    "Lets's define new $g(x)$\n",
    "\\begin{equation*}\n",
    "\\epsilon^{0.5x}-5+5x=0\n",
    "=>x=1-\\frac{\\epsilon^{0.5x}}{5}\\\\\n",
    "g'(x) = -\\frac{1}{10}\\epsilon^{0.5x}\\\\\n",
    "g'(1) = 0.08\n",
    "\\end{equation*}\n",
    "and we can see that $g'(1)$ converges. Finishly we found root.\n"
   ]
  },
  {
   "cell_type": "code",
   "execution_count": 148,
   "metadata": {
    "collapsed": false
   },
   "outputs": [
    {
     "name": "stdout",
     "output_type": "stream",
     "text": [
      "root =  0.7141687150293243\n"
     ]
    }
   ],
   "source": [
    "def g(x):\n",
    "    return 1 - exp(0.5*x)/5\n",
    "i3,x3,e3=fixpt(1,1e-10,100)\n",
    "print(\"root = \", x3)"
   ]
  },
  {
   "cell_type": "markdown",
   "metadata": {},
   "source": [
    "Here we use Newton-Raphson method with  initial guess $x_0 = 1$. We determine root of equation of Newton-Raphson method."
   ]
  },
  {
   "cell_type": "code",
   "execution_count": 149,
   "metadata": {
    "collapsed": false
   },
   "outputs": [
    {
     "name": "stdout",
     "output_type": "stream",
     "text": [
      "root =  0.714168715029389\n"
     ]
    }
   ],
   "source": [
    "i4,x4,e4=nr(1,1e-10,100)\n",
    "print(\"root = \",x4)"
   ]
  },
  {
   "cell_type": "markdown",
   "metadata": {},
   "source": [
    "Now we can plot total error graph of each method. "
   ]
  },
  {
   "cell_type": "code",
   "execution_count": 150,
   "metadata": {
    "collapsed": false
   },
   "outputs": [
    {
     "data": {
      "image/png": "[encoded data removed]",
      "text/plain": [
       "<matplotlib.figure.Figure at 0x4ead0ae7f0>"
      ]
     },
     "metadata": {},
     "output_type": "display_data"
    }
   ],
   "source": [
    "plot(i1,e1,label=\"Bisec\"); \n",
    "plot(i2,e2,label=\"Falsep\"); \n",
    "plot(i3,e3,label=\"Fixpt\"); \n",
    "plot(i4,e4,label=\"NR\"); \n",
    "\n",
    "legend()\n",
    "\n",
    "xlabel(\"Iteration number\"); ylabel(\"Error\")\n",
    "yscale('log')\n",
    "show()"
   ]
  },
  {
   "cell_type": "markdown",
   "metadata": {},
   "source": [
    "From the graph we see that Newton Raphson method is quadratically convergent, whereas Bisection, False-position and Fixed-point iteration are linearly convergent. "
   ]
  },
  {
   "cell_type": "markdown",
   "metadata": {},
   "source": [
    "Now we try to declare new brackets for Bisection and False-position and see new results."
   ]
  },
  {
   "cell_type": "code",
   "execution_count": 152,
   "metadata": {
    "collapsed": false
   },
   "outputs": [
    {
     "name": "stdout",
     "output_type": "stream",
     "text": [
      "root of Bisec =  0.714168715029615\n",
      "root of Falsep =  0.7060017673846115\n",
      "root of Fixpt =  0.714168715029615\n",
      "root of NR =  0.7060017673846115\n"
     ]
    },
    {
     "data": {
      "image/png": "[encoded data removed]",
      "text/plain": [
       "<matplotlib.figure.Figure at 0x4eae3264e0>"
      ]
     },
     "metadata": {},
     "output_type": "display_data"
    }
   ],
   "source": [
    "i1,x1,e1=bisect(0,15,1e-10,100)\n",
    "i2,x2,e2=falsep(0,15,1e-10,100)\n",
    "i3,x3,e3=fixpt(15,1e-10,100)\n",
    "i4,x4,e4=nr(15,1e-10,100)\n",
    "print(\"root of Bisec = \",x1)\n",
    "print(\"root of Falsep = \",x2)\n",
    "print(\"root of Fixpt = \",x1)\n",
    "print(\"root of NR = \",x2)\n",
    "plot(i1,e1,label=\"Bisec\"); \n",
    "plot(i2,e2,label=\"Falsep\"); \n",
    "plot(i3,e3,label=\"Fixpt\"); \n",
    "plot(i4,e4,label=\"NR\"); \n",
    "legend()\n",
    "xlabel(\"Iteration number\"); ylabel(\"Error\")\n",
    "yscale('log')\n",
    "title('')\n",
    "show()"
   ]
  },
  {
   "cell_type": "markdown",
   "metadata": {},
   "source": [
    "The first wee see that root of False-position is not found in 100 iterations. Also we see that all lines change after new initial guesses. Because we choose new initial values, which are further from root, it occurs those initial oscillation at the beginning.  "
   ]
  },
  {
   "cell_type": "markdown",
   "metadata": {},
   "source": [
    "# Conclusion\n",
    "We have used four methods for finding the roots of equation. Our theoretical predictions agree with what we see in practice. Each of them has its own aspects of usage. It can be clearly seen that our prediction about fixed-point method (its divergence depends on the choice of $g(x)$) has been shown above in Discussion. In one of the cases it did not converge to the final result. We have also seen that the Newton-Raphson method is the fastest one, compared to the other three. The bracketing methods, which always converge to the final result, however, are not the fastest ones. False-position method even requires much more iterations than other methods, in case when we choose the upper bound guess far from the actual root."
   ]
  }
 ],
 "metadata": {
  "kernelspec": {
   "display_name": "Python 3",
   "language": "python",
   "name": "python3"
  },
  "language_info": {
   "codemirror_mode": {
    "name": "ipython",
    "version": 3
   },
   "file_extension": ".py",
   "mimetype": "text/x-python",
   "name": "python",
   "nbconvert_exporter": "python",
   "pygments_lexer": "ipython3",
   "version": "3.5.1"
  }
 },
 "nbformat": 4,
 "nbformat_minor": 0
}
