{
 "cells": [
  {
   "cell_type": "markdown",
   "metadata": {},
   "source": [
    "# Unconstrained Optimization methods\n",
    "## Prepared by Maxim Khagay\n",
    "### School of Science and Technology, Nazarbayev University"
   ]
  },
  {
   "cell_type": "markdown",
   "metadata": {},
   "source": [
    "## Abstract\n",
    "This report will demonstrate two ways to solve optimization problem of two dimentional function $f(x, y)$. In our case we need to find minimum of function. These methods are steepest descent method and random search method. For random search method we will see how the error of this method scales with the number of iterations. Computational cost of each method will be considered. Finally, both methods will be run again at fixed $y$."
   ]
  },
  {
   "cell_type": "markdown",
   "metadata": {},
   "source": [
    "## Introduction\n",
    "Both methods are useful to find optimaztion solution of function. They use different methods:\n",
    "### Theory\n",
    "Two methods are described in Chapra and Canale's book.\n",
    "Let's briefly introduce them\n",
    "#### Steepest search method\n",
    "First of all, for steepest descent method we use iterations to improve our $x$ and $y$ with a condition until we reach acceptable precision. In each iteration we will calculate optimal $h_{opt}$ at which $g(h)$ is minimal by using gradient of function. After that we use $h_{opt}$ to take new values of $x$ and $y$. Actually to find $h_{opt}$ we use golden section method, it is covered in Chapra and Canale's book. Also as it can be seen in the book we derive error the following way:\n",
    "\n",
    "\\begin{equation*}\n",
    "R = \\frac{(\\sqrt5 - 1)}{2}\n",
    "\\end{equation*}\n",
    "\n",
    "\\begin{equation*}\n",
    "error = (1-R)\\times|\\frac{x_u-x_l}{h_{opt}}|\\times100%\\n\n",
    "\\end{equation*}\n",
    "\n",
    "#### Random search method\n",
    "This method just calculates function of new values(generated randomly) and improve $x$ and $y$ if new values are better. Because of using random it is not easy to predict behavior of this method.\n",
    "\n",
    "To find computational cost we need to find time of each method. We will try to run each method 10 times and take total time and average from it. The main purpose to do it is other process of PC which can affect on process of method and by using average we can compare computational cost, because computational cost directly depends on number of executed iteration in code and number executed iterations is actually a time. "
   ]
  },
  {
   "cell_type": "markdown",
   "metadata": {},
   "source": [
    "# Formulation of the problem\n",
    "We need to find minimal optimization of function $f(x,y)=(x-3)^2+(y-2)^2$\n",
    "## Theoretical expectations\n",
    "It is simple function and we can derive that:\n",
    "\n",
    "First derivative for $x$ => 2(x-3) = 0, x = 3\n",
    "\n",
    "First derivative for $y$ => 2(y-2) = 0, y = 2\n",
    "\n",
    "Both second derivatives of $x$ and $y$ are 2, so we found minimum of function in $f(3, 2) = 0$\n",
    "\n",
    "Now we can expect from practice that $x = 3$ and $y = 2$ \n",
    "\n",
    "Also we can predict that one iteration is enough to reach from any points of initial $x$ and $y$ because function is paraboloid for steepest search method from:\n",
    "$g(h) = f(x_0 + 2(x_0-3)h,y_0+2(y_0-2)h)$\n",
    "\n",
    "$g'(h) = (x_0-3)^2(1+2h)^2+(y_0-2)^2(1+2h)^2 = f(x_0,y_0)(1+2h)^2$\n",
    "from that we know that it is positive and we found $h = -\\frac{1}{2}$ "
   ]
  },
  {
   "cell_type": "markdown",
   "metadata": {},
   "source": [
    "# Methods"
   ]
  },
  {
   "cell_type": "markdown",
   "metadata": {},
   "source": [
    "Here we introduce our function $f(x, y)$."
   ]
  },
  {
   "cell_type": "code",
   "execution_count": 10,
   "metadata": {
    "collapsed": false
   },
   "outputs": [],
   "source": [
    "from math import sqrt\n",
    "from time import time\n",
    "\n",
    "def f(x, y):\n",
    "    return (x-3)**2+(y-2)**2"
   ]
  },
  {
   "cell_type": "markdown",
   "metadata": {},
   "source": [
    "Steepest search method is introduced here. We took initial values of $x$ and $y$ equal to 0. Also our function of gradient $g(h)$, we use $golden(xl, xu)$ to return a $h_{opt}$ with error precision $10^{-10}$, we use error from theory part. As we know that theoreticaly is $-\\frac{1}{2}$ we take range for golden section method from -1 to 1. And we print obtained values of $x$ and $y$"
   ]
  },
  {
   "cell_type": "code",
   "execution_count": 11,
   "metadata": {
    "collapsed": false
   },
   "outputs": [
    {
     "name": "stdout",
     "output_type": "stream",
     "text": [
      "2.9999999999974007 1.9999999999982672\n"
     ]
    }
   ],
   "source": [
    "def g(h):\n",
    "    return f(x0+2*(x0-3)*h,y0+2*(y0-2)*h)\n",
    "    \n",
    "def golden(xl, xu):\n",
    "    R = (sqrt(5)-1)/2\n",
    "    e = (1-R)*abs((xu-xl)/(min(xl, xu)))\n",
    "    while(e > 1e-10):\n",
    "        d = R*(xu-xl)\n",
    "        x1 = xl + d\n",
    "        x2 = xu - d\n",
    "        if (g(x1) < g(x2)):\n",
    "            xl = x2\n",
    "            x2 = x1\n",
    "            x1 = xl + R*(xu-xl)\n",
    "        else:\n",
    "            xu = x1\n",
    "            x1 = x2\n",
    "            x2 = xu - R*(xu-xl)\n",
    "        e = (1-R)*abs((xu-xl)/(min(xl, xu)))*100\n",
    "        \n",
    "    if (g(xl) < g(xu)):\n",
    "        return xl\n",
    "    else:\n",
    "        return xu\n",
    "\n",
    "x0 = 0\n",
    "y0 = 0\n",
    "\n",
    "while(f(x0, y0) > 1e-10):\n",
    "    h = golden(-1, 1)\n",
    "    x0 = x0 + 2*(x0-3)*h\n",
    "    y0 = y0 + 2*(y0-2)*h\n",
    "print(x0, y0)"
   ]
  },
  {
   "cell_type": "markdown",
   "metadata": {},
   "source": [
    "Here we introduce random search method. We put precision equals to $10^{-5}$. We use $mn$ as our minimum of function and recalculate values of $x$ and $y$. Code used Merssene Twisted algorithm to generate fixed random values. We get values of $x$ and $y$ in range from -5 to 5. Finally we print obtained values. "
   ]
  },
  {
   "cell_type": "code",
   "execution_count": 12,
   "metadata": {
    "collapsed": false
   },
   "outputs": [
    {
     "name": "stdout",
     "output_type": "stream",
     "text": [
      "2.997304687334039 1.9996029904577908\n"
     ]
    }
   ],
   "source": [
    "from random import random, seed\n",
    "mn = 100000\n",
    "xl = yl = -5\n",
    "xu = yu = 5\n",
    "xmin = ymin = 0\n",
    "while(f(xmin,ymin) > 1e-5):\n",
    "    x = xl + (xu-xl)*random()\n",
    "    y = yl + (yu-yl)*random()\n",
    "    fnew = f(x,y)\n",
    "    if (fnew < mn):\n",
    "        xmin = x\n",
    "        ymin = y\n",
    "        mn = fnew\n",
    "print(xmin, ymin)\n",
    "    "
   ]
  },
  {
   "cell_type": "markdown",
   "metadata": {},
   "source": [
    "This part of code demonstrates 10000 iterations in loop and for each \"good\" iteration we save $error$. Finally we plot a graph and we can see behavior of $error$. We used $seed(1)$ to take fixed random values."
   ]
  },
  {
   "cell_type": "code",
   "execution_count": 13,
   "metadata": {
    "collapsed": false
   },
   "outputs": [
    {
     "name": "stdout",
     "output_type": "stream",
     "text": [
      "2.9890545889386564 1.999355167316617\n"
     ]
    },
    {
     "data": {
      "image/png": "[encoded data removed]",
      "text/plain": [
       "<matplotlib.figure.Figure at 0x606a308cc0>"
      ]
     },
     "metadata": {},
     "output_type": "display_data"
    },
    {
     "name": "stdout",
     "output_type": "stream",
     "text": [
      "last good iteration on 9010\n"
     ]
    }
   ],
   "source": [
    "%matplotlib inline\n",
    "from matplotlib.pyplot import *\n",
    "\n",
    "seed(1)\n",
    "n = np.array(np.zeros(100))\n",
    "r = np.array(np.zeros(100))\n",
    "xl = yl = -5\n",
    "xu = yu = 5\n",
    "xmin = ymin = 0\n",
    "i = -1\n",
    "mn = 10000\n",
    "for j in range(10000):\n",
    "    x = xl + (xu-xl)*random()\n",
    "    y = yl + (yu-yl)*random()\n",
    "    fnew = f(x,y)\n",
    "    if (fnew < mn):\n",
    "        xmin = x\n",
    "        ymin = y\n",
    "        mn = fnew\n",
    "        i += 1\n",
    "        n[i] = i\n",
    "        r[i] = fnew\n",
    "        xx = j\n",
    "print(xmin, ymin)\n",
    "xlabel(\"Iteration number\"); ylabel(\"Error\")\n",
    "plot(n,r)\n",
    "show()\n",
    "\n",
    "print(\"last good iteration on\",xx)"
   ]
  },
  {
   "cell_type": "markdown",
   "metadata": {},
   "source": [
    "Here we calculated average time on each steepest search method"
   ]
  },
  {
   "cell_type": "code",
   "execution_count": 14,
   "metadata": {
    "collapsed": false
   },
   "outputs": [
    {
     "name": "stdout",
     "output_type": "stream",
     "text": [
      "0.00030026435852050783\n"
     ]
    }
   ],
   "source": [
    "avg1 = 0\n",
    "for t in range(10):\n",
    "    start = time()\n",
    "    x0 = 0\n",
    "    y0 = 0\n",
    "    while(f(x0, y0) > 1e-5):\n",
    "        h = golden(-10, 10)\n",
    "        x0 = x0 + 2*(x0-3)*h\n",
    "        y0 = y0 + 2*(y0-2)*h\n",
    "    end = time()\n",
    "    avg1 += end-start\n",
    "avg1 /= 10\n",
    "print(avg1)\n",
    "aa = avg1"
   ]
  },
  {
   "cell_type": "markdown",
   "metadata": {
    "collapsed": true
   },
   "source": [
    "Here we calculated average time on each random search method. As you see, we put $seed()$, it means that now we don't have fixed random values. We need a few seconds. Please wait."
   ]
  },
  {
   "cell_type": "code",
   "execution_count": 15,
   "metadata": {
    "collapsed": false
   },
   "outputs": [
    {
     "name": "stdout",
     "output_type": "stream",
     "text": [
      "9.527218246459961\n"
     ]
    }
   ],
   "source": [
    "avg2 = 0\n",
    "seed()\n",
    "for t in range(10):\n",
    "    start = time()\n",
    "    mn = 100000\n",
    "    xl = yl = -5\n",
    "    xu = yu = 5\n",
    "    xmin = ymin = 0\n",
    "    while(f(xmin,ymin) > 1e-5):\n",
    "        x = xl + (xu-xl)*random()\n",
    "        y = yl + (yu-yl)*random()\n",
    "        fnew = f(x,y)\n",
    "        if (fnew < mn):\n",
    "            xmin = x\n",
    "            ymin = y\n",
    "            mn = fnew\n",
    "    end = time()\n",
    "    avg2 += end-start\n",
    "avg2 /= 10\n",
    "print(avg2)\n",
    "bb = avg2"
   ]
  },
  {
   "cell_type": "markdown",
   "metadata": {},
   "source": [
    "In next two parts of code, we fix $y$ at 2 and search only $x$ and recalculate average time."
   ]
  },
  {
   "cell_type": "code",
   "execution_count": 16,
   "metadata": {
    "collapsed": false
   },
   "outputs": [
    {
     "name": "stdout",
     "output_type": "stream",
     "text": [
      "0.0003984689712524414\n"
     ]
    }
   ],
   "source": [
    "avg1 = 0\n",
    "for t in range(10):\n",
    "    start = time()\n",
    "    x0 = 0\n",
    "    y0 = 2\n",
    "    while(f(x0, y0) > 1e-5):\n",
    "        h = golden(-10, 10)\n",
    "        x0 = x0 + 2*(x0-3)*h\n",
    "    end = time()\n",
    "    avg1 += end-start\n",
    "avg1 /= 10\n",
    "print(avg1)\n",
    "aaa = avg1"
   ]
  },
  {
   "cell_type": "code",
   "execution_count": 17,
   "metadata": {
    "collapsed": false
   },
   "outputs": [
    {
     "name": "stdout",
     "output_type": "stream",
     "text": [
      "0.0020009994506835936\n"
     ]
    }
   ],
   "source": [
    "avg2 = 0\n",
    "seed()\n",
    "for t in range(10):\n",
    "    start = time()\n",
    "    mn = 100000\n",
    "    xl = -5\n",
    "    xu = 5\n",
    "    xmin = 0\n",
    "    ymin = 2\n",
    "    while(f(xmin,ymin) > 1e-5):\n",
    "        x = xl + (xu-xl)*random()\n",
    "        fnew = f(x,ymin)\n",
    "        if (fnew < mn):\n",
    "            xmin = x\n",
    "            mn = fnew\n",
    "    end = time()\n",
    "    avg2 += end-start\n",
    "avg2 /= 10\n",
    "print(avg2)\n",
    "bbb = avg2"
   ]
  },
  {
   "cell_type": "markdown",
   "metadata": {},
   "source": [
    "## Discussion\n",
    "First of all, two methods work correctly. Steepest and random search methods give a correct values of $x$ and $y$, they are very close to true values $x=3$ and $y=2$ and satisfy to our precision in each method. \n",
    "\n",
    "From Error vs Iteration graph we see that the error converges to zero. Let me remind that our true value of optimal $f(x,y)$ equals to 0. So $Error = f(x_0,y_0) - true value$, so $Error = f(x_0, y_0)$. We see that 12 \"good\" iterations out of 10000 iterations were enough to reach true value with a given precision.\n",
    "\n",
    "Let's compare computational cost of two methods. As we said in theory part, we use average time of each method. Steepest search method is faster than random search method, we know that one iteration was enough for our simple function and because of it we get this result. Actually for random seach method time depends on our range, if we take more closer range time will decrease, accordingly computational cost will decrease. \n",
    "\n",
    "Below you see how much Steepest method is faster than Random method"
   ]
  },
  {
   "cell_type": "code",
   "execution_count": 18,
   "metadata": {
    "collapsed": false
   },
   "outputs": [
    {
     "name": "stdout",
     "output_type": "stream",
     "text": [
      "31729.43433380975\n"
     ]
    }
   ],
   "source": [
    "print(bb/aa)"
   ]
  },
  {
   "cell_type": "markdown",
   "metadata": {},
   "source": [
    "When we use fixed $y = 2$"
   ]
  },
  {
   "cell_type": "code",
   "execution_count": 19,
   "metadata": {
    "collapsed": false
   },
   "outputs": [
    {
     "name": "stdout",
     "output_type": "stream",
     "text": [
      "Difference between fixed y and non-fixed in time of Steepest method's time is  9.820461273193356e-05\n",
      "Proportion between fixed y and non-fixed in of Random method's time is  4761.229816032791 times\n"
     ]
    }
   ],
   "source": [
    "print(\"Difference between fixed y and non-fixed in time of Steepest method's time is \", aaa-aa)\n",
    "print(\"Proportion between fixed y and non-fixed in of Random method's time is \", bb/bbb, \"times\")"
   ]
  },
  {
   "cell_type": "markdown",
   "metadata": {},
   "source": [
    "We did not predict difference of Steepest method, is it positive or not? It depends on PC processes. However we can run many times Random method and see that after fixed $y$ computational cost will decrease, because we don't need calculate $y$ parameter.     "
   ]
  },
  {
   "cell_type": "markdown",
   "metadata": {},
   "source": [
    "## Conclusion\n",
    "As we see from code results, two methods are reliable to find optimal solution of function. As we said our function is simple for steepest method, so it doesn't matter for computational cost of this method, in both cases of $y$ is almost the same. Whereas we can't predict behavior of random search method, we got that for fixed $y$ it takes less time. Let's notice that there are not a lot of  \"good\" iterations in random method, while we spend a huge amount of needless iterations, where our values didn't improve. "
   ]
  },
  {
   "cell_type": "code",
   "execution_count": null,
   "metadata": {
    "collapsed": true
   },
   "outputs": [],
   "source": []
  }
 ],
 "metadata": {
  "kernelspec": {
   "display_name": "Python 3",
   "language": "python",
   "name": "python3"
  },
  "language_info": {
   "codemirror_mode": {
    "name": "ipython",
    "version": 3
   },
   "file_extension": ".py",
   "mimetype": "text/x-python",
   "name": "python",
   "nbconvert_exporter": "python",
   "pygments_lexer": "ipython3",
   "version": "3.5.1"
  }
 },
 "nbformat": 4,
 "nbformat_minor": 0
}
