{
 "cells": [
  {
   "cell_type": "markdown",
   "metadata": {},
   "source": [
    "# Estimating optimal stepsize for the first forward, backward and centered divided difference formula\n",
    "## prepared by Maxim Khagay\n",
    "### School of Science and Technology, Nazarbayev University"
   ]
  },
  {
   "cell_type": "markdown",
   "metadata": {},
   "source": [
    "# Abstract\n",
    "The report demonstrates three methods for numerical approximating of a derivative of a function using 15 stepsize values for each of them. Here theoretical estimations are used to compare with the results from the program we use, optimal step sizes for minimal range of errors are found for each of the method. "
   ]
  },
  {
   "cell_type": "markdown",
   "metadata": {},
   "source": [
    "# Introduction\n",
    "Numerical differentiation is useful to calculate first derivative of a mathematical function by using values of function. "
   ]
  },
  {
   "cell_type": "markdown",
   "metadata": {},
   "source": [
    "### Theory\n",
    "As it's written we use three main formulas: forward, backward and centered. All of them comes from Taylor series:\n",
    "\\begin{equation*}\n",
    "f(x) = f(a) + f'(a)(x-a) + \\frac{f''(a)(x-a)^2}{2!} + \\frac{f'''(a)(x-a)^3}{3!} +...+\\frac{f(a)^{n}(x-a)^n}{n!}\n",
    "\\end{equation*}\n",
    "\n",
    "Firsly let introduce forward and backward formula:\n",
    "\\begin{equation*}\n",
    "f'(x) = \\frac{f(x_{i+1})-f(x_i)}{x_{i+1}-x_i} \\hspace{0.3cm} and \\hspace{0.3cm} f'(x) = \\frac{f(x_{i})-f(x_{i-1})}{h},\\hspace{0.3cm} respectively.\n",
    "\\end{equation*}\n",
    "Centered formula comes from these two and become like mean:\n",
    "\\begin{equation*}\n",
    "f'(x) = \\frac{f(x_{i+1})-f(x_{x-1})}{2h}\n",
    "\\end{equation*}\n",
    "Now let consider $error$. To calculate values of first derivative function we use computer calcultions on a programm, therefore there occured round off error, it comes from error on the last allowed digit. \n",
    "Next error is a truncation error. Truncation error occurs, where we skip some unnecesary calculations in each formula.  \n",
    "\\begin{equation*}\n",
    "f'(x_i) = FDA + Error\n",
    "\\end{equation*}\n",
    "To find errors for forward lets start from this:\n",
    "\\begin{equation*}\n",
    "f'(x_i) = \\frac{f(x_{i+1})-f(x_i)}{h}-O(h)\n",
    "\\end{equation*}\n",
    "Now with considering round off and truncation error and notes from Chapra and Canale book take it like:\n",
    "\\begin{equation*}\n",
    "f'(x_i) = FDA - O(h) + \\frac{\\epsilon_{i+1}-\\epsilon_i}{h}\n",
    "\\end{equation*}\n",
    "Now we can present error like:\n",
    "\\begin{equation*}\n",
    "Error = |-O(h) + \\frac{\\epsilon_{i+1}-\\epsilon_i}{h}| \\leqslant max|O(h)|+max|\\frac{\\epsilon_{i+1}-\\epsilon_i}{h}| = max|O(h)|+\\frac{2\\epsilon}{h}  \\\\\n",
    "max|O(h)|=max|-\\frac{f''(x)h}{2}|=max|-f''(x)|\\frac{h}{2}\n",
    "\\end{equation*}\n",
    "Now we can obtain such equation:\n",
    "\\begin{equation*}\n",
    "Error \\leqslant \\frac{Mh}{2}+\\frac{2\\epsilon}{h}\n",
    "\\end{equation*}\n",
    "Finishly we take derivative with and initialize it to 0 to find optimal $h$ for minimal range of error:\n",
    "\\begin{equation*}\n",
    "\\frac{M}{2}-\\frac{2\\epsilon}{h^2} => h = \\sqrt{\\frac{4\\epsilon}{M}}\n",
    "\\end{equation*}\n",
    "For backward we will go in such way and we obtain the same formula.\n",
    "For centered we can take this formula for optimal $h$ from Chapra & Canale:\n",
    "\\begin{equation*}\n",
    "h = (\\frac{3\\epsilon}{M})^{1/3}\n",
    "\\end{equation*}\n",
    "However, $M$ for forward and backward will take second derivative of function, where $M$ for centered use third derivative.\n",
    "\n",
    "\n",
    "\n",
    "\n",
    "\n"
   ]
  },
  {
   "cell_type": "markdown",
   "metadata": {},
   "source": [
    "# Formulation of the problem\n",
    "We will use three types of differential approximation(forward, backward and centered) to find derivative of the function:\n",
    " \\begin{equation*}\n",
    "f(x) = -0.1x^4-0.15x^3-0.5x^2-0.25x+1.2 \n",
    "\\end{equation*}\n",
    "\n",
    "\n",
    "At point $x = 5$ by using different stepsize values $h$ ranging in power of 10 from $10^0$ to $10^{-14}$. \n",
    " "
   ]
  },
  {
   "cell_type": "markdown",
   "metadata": {},
   "source": [
    "# Methods"
   ]
  },
  {
   "cell_type": "markdown",
   "metadata": {},
   "source": [
    "For coding part let introduce these packages to use arrays and to make plots"
   ]
  },
  {
   "cell_type": "code",
   "execution_count": null,
   "metadata": {
    "collapsed": true
   },
   "outputs": [],
   "source": [
    "from numpy import *\n",
    "from matplotlib.pyplot import *"
   ]
  },
  {
   "cell_type": "markdown",
   "metadata": {},
   "source": [
    "Now let define function with its derivative"
   ]
  },
  {
   "cell_type": "code",
   "execution_count": null,
   "metadata": {
    "collapsed": true
   },
   "outputs": [],
   "source": [
    "def f(x):\n",
    "    return -0.1*x**4-0.15*x**3-0.5*x**2-0.25*x+1.2\n",
    "def df(x):\n",
    "    return -0.4*x**3-0.45*x**2-x-0.25"
   ]
  },
  {
   "cell_type": "markdown",
   "metadata": {},
   "source": [
    "In a next part we give value for $x$ and create arrays of $h$ and \"error\". After that we calculate first derivative for each step size by using forward formula. "
   ]
  },
  {
   "cell_type": "code",
   "execution_count": null,
   "metadata": {
    "collapsed": true
   },
   "outputs": [],
   "source": [
    "x=5; n=15\n",
    "h=zeros(n,float); error=zeros(n,float)\n",
    "\n",
    "for i in range(n):\n",
    "    h[i]=float(10**(-i))\n",
    "    dfnum = (f(x+h[i])-f(x))/(h[i]); dftrue = df(x)\n",
    "    error[i]=abs(dfnum-dftrue)"
   ]
  },
  {
   "cell_type": "markdown",
   "metadata": {},
   "source": [
    "For the backward just change one command in a loop"
   ]
  },
  {
   "cell_type": "code",
   "execution_count": null,
   "metadata": {
    "collapsed": true
   },
   "outputs": [],
   "source": [
    "for i in range(n):\n",
    "    h[i]=float(10**(-i))\n",
    "    dfnum = (f(x)-f(x-h[i]))/(h[i]); dftrue = df(x)\n",
    "    error[i]=abs(dfnum-dftrue)"
   ]
  },
  {
   "cell_type": "markdown",
   "metadata": {},
   "source": [
    "The same operating for centered"
   ]
  },
  {
   "cell_type": "code",
   "execution_count": null,
   "metadata": {
    "collapsed": true
   },
   "outputs": [],
   "source": [
    "for i in range(n):\n",
    "    h[i]=float(10**(-i))\n",
    "    dfnum = (f(x+h[i])-f(x-h[i]))/(2*h[i]); dftrue = df(x)\n",
    "    error[i]=abs(dfnum-dftrue)"
   ]
  },
  {
   "cell_type": "markdown",
   "metadata": {},
   "source": [
    "Finally we can make a plot for each of three formulas, we use loglog to exactly show in order of ten."
   ]
  },
  {
   "cell_type": "code",
   "execution_count": null,
   "metadata": {
    "collapsed": true
   },
   "outputs": [],
   "source": [
    "loglog(h,error)\n",
    "xlabel('Stepsize'); ylabel('Absolute Error'); \n",
    "show() "
   ]
  },
  {
   "cell_type": "markdown",
   "metadata": {},
   "source": [
    "Let's merge all parts and we have 3 graphs Absolte Error vs Stepsize. "
   ]
  },
  {
   "cell_type": "code",
   "execution_count": 11,
   "metadata": {
    "collapsed": false
   },
   "outputs": [
    {
     "data": {
      "image/png": "[encoded data removed]",
      "text/plain": [
       "<matplotlib.figure.Figure at 0xbc1f8c9588>"
      ]
     },
     "metadata": {},
     "output_type": "display_data"
    },
    {
     "data": {
      "image/png": "[encoded data removed]",
      "text/plain": [
       "<matplotlib.figure.Figure at 0xbc1f9a7fd0>"
      ]
     },
     "metadata": {},
     "output_type": "display_data"
    },
    {
     "data": {
      "image/png": "[encoded data removed]",
      "text/plain": [
       "<matplotlib.figure.Figure at 0xbc1f908630>"
      ]
     },
     "metadata": {},
     "output_type": "display_data"
    }
   ],
   "source": [
    "%matplotlib inline\n",
    "from numpy import *\n",
    "from matplotlib.pyplot import *\n",
    "\n",
    "def f(x):\n",
    "    return -0.1*x**4-0.15*x**3-0.5*x**2-0.25*x+1.2\n",
    "\n",
    "def df(x):\n",
    "    return -0.4*x**3-0.45*x**2-x-0.25\n",
    "\n",
    "x=5; n=15\n",
    "h=zeros(n,float); error=zeros(n,float)\n",
    "\n",
    "for i in range(n):\n",
    "    h[i]=float(10**(-i))\n",
    "    dfnum = (f(x+h[i])-f(x))/(h[i]); dftrue = df(x)\n",
    "    error[i]=abs(dfnum-dftrue)\n",
    "    \n",
    "title('Forward')\n",
    "loglog(h,error)\n",
    "xlabel('Stepsize'); ylabel('Absolute Error'); \n",
    "show() \n",
    "\n",
    "for i in range(n):\n",
    "    h[i]=float(10**(-i))\n",
    "    dfnum = (f(x)-f(x-h[i]))/(h[i]); dftrue = df(x)\n",
    "    error[i]=abs(dfnum-dftrue)\n",
    "\n",
    "title('Backward')    \n",
    "loglog(h,error)\n",
    "xlabel('Stepsize'); ylabel('Absolute Error'); \n",
    "show() \n",
    "\n",
    "for i in range(n):\n",
    "    h[i]=float(10**(-i))\n",
    "    dfnum = (f(x+h[i])-f(x-h[i]))/(2*h[i]); dftrue = df(x)\n",
    "    error[i]=abs(dfnum-dftrue)\n",
    "    \n",
    "title('Centered')    \n",
    "loglog(h,error)\n",
    "xlabel('Stepsize'); ylabel('Absolute Error'); \n",
    "show() "
   ]
  },
  {
   "cell_type": "markdown",
   "metadata": {},
   "source": [
    "## Discussion and Conclusion\n",
    "From graphs we can see that $h$ optimal stepsize for forward and backward equals to $10^{-8}$, $h$ optimal stepsize for centered equals to $10^{-5}$.\n",
    "\n",
    "Now let calculate theoretical values by using formulas from theory part.\n",
    "For Forward and Backward:\n",
    "\\begin{equation*}\n",
    "h = \\sqrt{\\frac{4\\epsilon}{M}}\\\\\n",
    "M = |-1.2*5^2-0.9*5-5|\\\\\n",
    "M = 39.5\\\\\n",
    "\\epsilon = 0.5*10^{-16}\\\\\n",
    "h = 2.2*10^{-9}\n",
    "\\end{equation*}\n",
    "For Centered:\n",
    "\\begin{equation*}\n",
    "h = \\frac{3\\epsilon}{M}^{\\frac{1}{3}}\\\\\n",
    "M = |-2.4*5-0.9|\\\\\n",
    "M = 12.9\\\\\n",
    "\\epsilon = 0.5*10^{-16}\\\\\n",
    "h = 2.3*10^{-6}\n",
    "\\end{equation*}\n",
    "\n",
    "The values of optimal stepsizes are not the same because the error of $f(x)$ is larger than $10^{-16}$, because it propagates by means of ($x$ also has that round-off error):\n",
    "\n",
    "\\begin{equation*}\n",
    "\\delta f=|f'(x)|\\delta x \\approx 10^{-15}\n",
    "\\end{equation*}\n",
    "\n",
    "To get right results we should substite this value instead of the old one that we used."
   ]
  }
 ],
 "metadata": {
  "kernelspec": {
   "display_name": "Python 3",
   "language": "python",
   "name": "python3"
  },
  "language_info": {
   "codemirror_mode": {
    "name": "ipython",
    "version": 3
   },
   "file_extension": ".py",
   "mimetype": "text/x-python",
   "name": "python",
   "nbconvert_exporter": "python",
   "pygments_lexer": "ipython3",
   "version": "3.5.1"
  }
 },
 "nbformat": 4,
 "nbformat_minor": 0
}
